{
  "nbformat": 4,
  "nbformat_minor": 0,
  "metadata": {
    "colab": {
      "provenance": [],
      "authorship_tag": "ABX9TyNxSVBaRx3DE5sGfs1iPFmJ",
      "include_colab_link": true
    },
    "kernelspec": {
      "name": "python3",
      "display_name": "Python 3"
    },
    "language_info": {
      "name": "python"
    }
  },
  "cells": [
    {
      "cell_type": "markdown",
      "metadata": {
        "id": "view-in-github",
        "colab_type": "text"
      },
      "source": [
        "<a href=\"https://colab.research.google.com/github/DaviAlbini/Bioinformatics/blob/main/Counting_DNA_Nucleotides.ipynb\" target=\"_parent\"><img src=\"https://colab.research.google.com/assets/colab-badge.svg\" alt=\"Open In Colab\"/></a>"
      ]
    },
    {
      "cell_type": "code",
      "source": [
        "with open('/content/rosalind_dna.txt', 'r') as f:\n",
        "  dna_sequence = f.read().strip()\n",
        "\n",
        "a_count = dna_sequence.count('A')\n",
        "c_count = dna_sequence.count('C')\n",
        "g_count = dna_sequence.count('G')\n",
        "t_count = dna_sequence.count('T')\n",
        "\n",
        "print(f\"{a_count} {c_count} {g_count} {t_count}\")"
      ],
      "metadata": {
        "colab": {
          "base_uri": "https://localhost:8080/"
        },
        "id": "ZBG6GOGqMjSF",
        "outputId": "915b93fb-4c44-461a-9232-4254da40c07b"
      },
      "execution_count": null,
      "outputs": [
        {
          "output_type": "stream",
          "name": "stdout",
          "text": [
            "219 260 229 239\n"
          ]
        }
      ]
    }
  ]
}