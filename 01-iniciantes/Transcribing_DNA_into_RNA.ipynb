{
  "nbformat": 4,
  "nbformat_minor": 0,
  "metadata": {
    "colab": {
      "provenance": [],
      "authorship_tag": "ABX9TyOOerv3YtGp6Kp/pH05lZ42",
      "include_colab_link": true
    },
    "kernelspec": {
      "name": "python3",
      "display_name": "Python 3"
    },
    "language_info": {
      "name": "python"
    }
  },
  "cells": [
    {
      "cell_type": "markdown",
      "metadata": {
        "id": "view-in-github",
        "colab_type": "text"
      },
      "source": [
        "<a href=\"https://colab.research.google.com/github/DaviAlbini/Bioinformatics/blob/main/01-iniciantes/Transcribing_DNA_into_RNA.ipynb\" target=\"_parent\"><img src=\"https://colab.research.google.com/assets/colab-badge.svg\" alt=\"Open In Colab\"/></a>"
      ]
    },
    {
      "cell_type": "code",
      "execution_count": 1,
      "metadata": {
        "colab": {
          "base_uri": "https://localhost:8080/",
          "height": 105
        },
        "id": "eNIui_9teZ8l",
        "outputId": "8f147b16-3cb1-4312-9ac2-1352ba86710e"
      },
      "outputs": [
        {
          "output_type": "execute_result",
          "data": {
            "text/plain": [
              "'AACCGCCUAAGGCAGCAGGGCGCUGUGCCGAACACUAAGGAGCGUGCUCCCCAUAACGUACUGGGCCAGAUCUCUCUUGGUAAAAUAGAGCAGUUGUGUUUUGCUGUGACGACGUAACGUAGGUAAUGAUUUGCGACCUGGUGCAUGAAUUAAGAGGGGCCGGGGCUUGCAGGGUUGCACUUCUCGUGACAUGAUUAGUACCGGGUGCUCCUGUGUGCAGAAUACGAAAGUCGUAAACCUUACGGCGGGGGUAUCCACUCGUUCCACGAGCGGAAGUUUGUAAGUGCGCUACAUAUCCGUAAUCACUGUAGCAGUCUGAGAAAUCGCGGCACCAACGUGCGGCUCAUUUAAUUCACGAGGCUGGUCAGCCAGAUCAGAUUAGACGAUAACACUCGGUCCCUAUACCCCCAUGGUUAUUCGUGUAACAGUCCCUGUUUCAUUGCCGCGCUUGCUUGCCAAGAACUCGUGAAACCAGUAUGUCUGUGUGUCACGUCGCGCUGAUGCUUAAGAGGAUUUGCGCGACUGAUAAGAUGGCGGGUGAGUGGAUCAAUCUCUGUUCCCCGGCUGCGACAAAGGUUAGCGAACCCCCUGAUCAACGGACCGUUCAAUCAGUUGUCAUAUUGUGAUGCUUGCGUCCAGCUGUACCCAUAGUGGGAGGUGUGCCGCACUGGGGAUGCACUAUUUGUGAAAUGAGUUCCUAAUCGUGGUACGGGGGACAGGUGACAUAAUGCGUGGUAUAUGCGGCCUCGGCCAUGCUCACGAAAUAAGACCCAUGCACUACCCGCGAUGGUACACGUUUUGAUAGUUAAAGUUCAGCGGCAAACAGCAGCAGCGUGUGCGAUUUUCGAACUUCACUGAUUUUAGUCUUAUGGGGGGGUAAGAGACGCGAUAGAGUUCUCCGCGGUCCCUUUCUUUGCGAGAGUUUUCGAAGAAGACCAUCAGGCCAUCCCAUAGG'"
            ],
            "application/vnd.google.colaboratory.intrinsic+json": {
              "type": "string"
            }
          },
          "metadata": {},
          "execution_count": 1
        }
      ],
      "source": [
        "file_path = '/content/rosalind_rna.txt'\n",
        "\n",
        "with open(file_path, 'r') as f:\n",
        "    dna_sequence = f.read().strip()\n",
        "\n",
        "rna_sequence = dna_sequence.replace('T', 'U')\n",
        "\n",
        "rna_sequence"
      ]
    }
  ]
}