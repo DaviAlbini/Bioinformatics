{
  "nbformat": 4,
  "nbformat_minor": 0,
  "metadata": {
    "colab": {
      "provenance": []
    },
    "kernelspec": {
      "name": "python3",
      "display_name": "Python 3"
    },
    "language_info": {
      "name": "python"
    }
  },
  "cells": [
    {
      "cell_type": "code",
      "execution_count": null,
      "metadata": {
        "id": "XpUXZw9XLByG"
      },
      "outputs": [],
      "source": [
        "import random"
      ]
    },
    {
      "cell_type": "code",
      "source": [
        "aminoacidos = 'ABCDEFGHIJKLMNOPQRSTUVW'\n",
        "peptideo = ''"
      ],
      "metadata": {
        "id": "712eGuGILIyA"
      },
      "execution_count": null,
      "outputs": []
    },
    {
      "cell_type": "code",
      "source": [
        "for i in range(10):\n",
        "  peptideo += random.choice(aminoacidos)\n",
        "\n",
        "print(peptideo)"
      ],
      "metadata": {
        "colab": {
          "base_uri": "https://localhost:8080/"
        },
        "id": "42wVESvHLcNL",
        "outputId": "678bff1f-1f0f-4759-f94c-981f118323dd"
      },
      "execution_count": null,
      "outputs": [
        {
          "output_type": "stream",
          "name": "stdout",
          "text": [
            "GFANPNDUOP\n"
          ]
        }
      ]
    },
    {
      "cell_type": "code",
      "source": [
        "pos = random.randint(0,9)\n",
        "print(pos)\n",
        "aleatorio = random.randint(0,19)\n",
        "print(aleatorio)"
      ],
      "metadata": {
        "colab": {
          "base_uri": "https://localhost:8080/"
        },
        "id": "Kl7iD4H8L4Qc",
        "outputId": "916e72ec-9888-4489-89a5-cd8a061c9717"
      },
      "execution_count": null,
      "outputs": [
        {
          "output_type": "stream",
          "name": "stdout",
          "text": [
            "2\n",
            "4\n"
          ]
        }
      ]
    },
    {
      "cell_type": "code",
      "source": [
        "inicio = peptideo[0:pos]\n",
        "print(inicio)\n",
        "original = peptideo[pos]\n",
        "print(original)\n",
        "final = peptideo[pos+1:]\n",
        "print(final)"
      ],
      "metadata": {
        "colab": {
          "base_uri": "https://localhost:8080/"
        },
        "id": "UeOq9g3fMDqM",
        "outputId": "2b162870-7e1d-45e7-be7d-c7c44bc43ac8"
      },
      "execution_count": null,
      "outputs": [
        {
          "output_type": "stream",
          "name": "stdout",
          "text": [
            "GF\n",
            "A\n",
            "NPNDUOP\n"
          ]
        }
      ]
    },
    {
      "cell_type": "code",
      "source": [
        "mutacao = aminoacidos[aleatorio]\n",
        "mutante = inicio + mutacao + final\n",
        "print(mutante)"
      ],
      "metadata": {
        "colab": {
          "base_uri": "https://localhost:8080/"
        },
        "id": "1NeAO1tBMjxu",
        "outputId": "8ce9b7be-deb8-4bf5-eaf9-3e72c57cf80f"
      },
      "execution_count": null,
      "outputs": [
        {
          "output_type": "stream",
          "name": "stdout",
          "text": [
            "GFENPNDUOP\n"
          ]
        }
      ]
    },
    {
      "cell_type": "code",
      "source": [
        "print(peptideo)\n",
        "print(mutante)"
      ],
      "metadata": {
        "colab": {
          "base_uri": "https://localhost:8080/"
        },
        "id": "LxlGy1QzM0g2",
        "outputId": "d6e25cbf-9dbe-48b5-b87c-396957da6b6f"
      },
      "execution_count": null,
      "outputs": [
        {
          "output_type": "stream",
          "name": "stdout",
          "text": [
            "GFANPNDUOP\n",
            "GFENPNDUOP\n"
          ]
        }
      ]
    }
  ]
}