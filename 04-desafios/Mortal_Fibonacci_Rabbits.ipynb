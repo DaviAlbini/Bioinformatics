{
  "nbformat": 4,
  "nbformat_minor": 0,
  "metadata": {
    "colab": {
      "provenance": [],
      "authorship_tag": "ABX9TyN72EtHJwSeasJs5/ZG4mGb",
      "include_colab_link": true
    },
    "kernelspec": {
      "name": "python3",
      "display_name": "Python 3"
    },
    "language_info": {
      "name": "python"
    }
  },
  "cells": [
    {
      "cell_type": "markdown",
      "metadata": {
        "id": "view-in-github",
        "colab_type": "text"
      },
      "source": [
        "<a href=\"https://colab.research.google.com/github/DaviAlbini/Bioinformatics/blob/main/04-desafios/Mortal_Fibonacci_Rabbits.ipynb\" target=\"_parent\"><img src=\"https://colab.research.google.com/assets/colab-badge.svg\" alt=\"Open In Colab\"/></a>"
      ]
    },
    {
      "cell_type": "code",
      "execution_count": 42,
      "metadata": {
        "colab": {
          "base_uri": "https://localhost:8080/"
        },
        "id": "Hw164xarcSFz",
        "outputId": "6b62ad0a-a146-4607-86c8-62359d0aa246"
      },
      "outputs": [
        {
          "output_type": "execute_result",
          "data": {
            "text/plain": [
              "133903587288445821265"
            ]
          },
          "metadata": {},
          "execution_count": 42
        }
      ],
      "source": [
        "def mortal_fibonacci_rabbits(n, m):\n",
        "    ages = [0] * m\n",
        "    ages[0] = 1\n",
        "\n",
        "    for month in range(1, n):\n",
        "        new_borns = sum(ages[1:])\n",
        "        ages = [new_borns] + ages[:-1]\n",
        "    return sum(ages)\n",
        "\n",
        "content = open(\"/content/rosalind_fibd.txt\").read()\n",
        "n, m = map(int, content.split())\n",
        "result = mortal_fibonacci_rabbits(n, m)\n",
        "result"
      ]
    }
  ]
}