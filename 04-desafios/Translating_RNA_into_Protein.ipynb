{
  "nbformat": 4,
  "nbformat_minor": 0,
  "metadata": {
    "colab": {
      "provenance": [],
      "authorship_tag": "ABX9TyNBvSTUWNlcp+LKUDCMjg1x",
      "include_colab_link": true
    },
    "kernelspec": {
      "name": "python3",
      "display_name": "Python 3"
    },
    "language_info": {
      "name": "python"
    }
  },
  "cells": [
    {
      "cell_type": "markdown",
      "metadata": {
        "id": "view-in-github",
        "colab_type": "text"
      },
      "source": [
        "<a href=\"https://colab.research.google.com/github/DaviAlbini/Bioinformatics/blob/main/04-desafios/Translating_RNA_into_Protein.ipynb\" target=\"_parent\"><img src=\"https://colab.research.google.com/assets/colab-badge.svg\" alt=\"Open In Colab\"/></a>"
      ]
    },
    {
      "cell_type": "code",
      "execution_count": 11,
      "metadata": {
        "id": "hgLs0fJf2u9r"
      },
      "outputs": [],
      "source": [
        "codons_amino_acids = {\n",
        "    'UUU':'F',\n",
        "    'CUU':'L',\n",
        "    'AUU':'I',\n",
        "    'GUU':'V',\n",
        "    'UUC':'F',\n",
        "    'CUC':'L',\n",
        "    'AUC':'I',\n",
        "    'GUC':'V',\n",
        "    'UUA':'L',\n",
        "    'CUA':'L',\n",
        "    'AUA':'I',\n",
        "    'GUA':'V',\n",
        "    'UUG':'L',\n",
        "    'CUG':'L',\n",
        "    'AUG':'M',       ## STOP CODONS\n",
        "    'GUG':'V',\n",
        "    'UCU':'S',\n",
        "    'CCU':'P',\n",
        "    'ACU':'T',\n",
        "    'GCU':'A',\n",
        "    'UCC':'S',\n",
        "    'CCC':'P',\n",
        "    'ACC':'T',\n",
        "    'GCC':'A',\n",
        "    'UCA':'S',\n",
        "    'CCA':'P',\n",
        "    'ACA':'T',\n",
        "    'GCA':'A',\n",
        "    'UCG':'S',\n",
        "    'CCG':'P',\n",
        "    'ACG':'T',\n",
        "    'GCG':'A',\n",
        "    'UAU':'Y',\n",
        "    'CAU':'H',\n",
        "    'AAU':'N',\n",
        "    'GAU':'D',\n",
        "    'UAC':'Y',\n",
        "    'CAC':'H',\n",
        "    'AAC':'N',\n",
        "    'GAC':'D',\n",
        "    'UAA':'M', ## STOP CODONS\n",
        "    'CAA':'Q',\n",
        "    'AAA':'K',\n",
        "    'GAA':'E',\n",
        "    'UAG':'M',  ## STOP CODONS\n",
        "    'CAG':'Q',\n",
        "    'AAG':'K',\n",
        "    'GAG':'E',\n",
        "    'UGU':'C',\n",
        "    'CGU':'R',\n",
        "    'AGU':'S',\n",
        "    'GGU':'G',\n",
        "    'UGC':'C',\n",
        "    'CGC':'R',\n",
        "    'AGC':'S',\n",
        "    'GGC':'G',\n",
        "    'UGA':'M', ## STOP CODONS\n",
        "    'CGA':'R',\n",
        "    'AGA':'R',\n",
        "    'GGA':'G',\n",
        "    'UGG':'W',\n",
        "    'CGG':'R',\n",
        "    'AGG':'R',\n",
        "    'GGG':'G'\n",
        "}"
      ]
    },
    {
      "cell_type": "code",
      "source": [
        "# seq = 'AUGGCCAUGGCGCCCAGAACUGAGAUCAAUAGUACCCGUAUUAACGGGUGA'\n",
        "\n",
        "seq = open('/content/rosalind_prot.txt').read().strip()\n",
        "\n",
        "protein = ''\n",
        "if len(seq) % 3 == 0:\n",
        "    for i in range(0, len(seq), 3):\n",
        "        codon = seq[i:i+3]\n",
        "        protein += codons_amino_acids[codon]\n",
        "\n",
        "\n",
        "# remove last codon\n",
        "protein = protein[:-1]\n",
        "\n",
        "print(protein)"
      ],
      "metadata": {
        "colab": {
          "base_uri": "https://localhost:8080/"
        },
        "id": "qi9O7t2Q9yNK",
        "outputId": "425db17d-7e78-493c-bcdb-5bb0cf7f39d4"
      },
      "execution_count": 12,
      "outputs": [
        {
          "output_type": "stream",
          "name": "stdout",
          "text": [
            "MGPIVAPTIIYVAQISTRLGLRTTLTSKQLRTFGTANVKQYPDVPCPFWYQYSYARVLVGCCLKRLCSVVVFFYILSKSPRTADTYLSGRNDTWTVYPAIDRDVPSQAPCALRSTDDLLTPRLVVHRRSYSRYRLHPCVQESAESAPVGSDRDSRMPVIHRIYHLNFVSSVGHARRILVPNLKYAEDGGHLYRSLLRARKDSFRVLRKAEEPSRGRSRVTQDVGKAALLSLVFSGSQKPLSTILLQKVDVWCRSALTRRSDVIGPPPVAVTFQTVCSLHEKRNEYTPARGPAGGIFLSMPNRVSTTRSAYTEGYVRCVPLRHGRAMALPQNTPPIPPGMSIVPRTFQWEVARATPPAKGMIHSLCAQVCTGNRAQDQMSPCENTERLSRARKSIGGVLGNMPKMVHRAWPSGGLGSVGLRAYLTLPKMMTSWRVPCSLDVIRFDTQPALVPPWPGLGFRTRVATSYTAQRILVRPVTPLPLEGYTQRSSLSRFLFTCLSQISKWNRIEQRQSSSEWFTHRSRGLTDVTLEMHFQGVRLPYSWVRTGLMATTDEPAATTLIWQGTQRGNITVRGIEYEICPGRRLRWVCCIRWPCSIKPHLHPRAVRLTHVLLPDARSGFPPRRGRPTRCELLVRSFSPMPIPRPGETCSKLGVKVHWSSLHKRGMHHWLRKRQFSSGLGVMFRKYSSYDGLTSAEMPNSTACSQGSSGYFFAPRLPENLGGFPNRHMRHGFCPPPGGIPPRARVKSENCQNYYDLYKRGKLTEFSMLNVNDTGFAFRIIRSLCVIKHVAILKSGLRSSPSQIVHLISNGKGEWSQISYTLVILSGCYAHPGTLFTRAIEGMHWTGIYLIHYGAEGPGANPVALALTHHSESGCIGLGCQRAEMDHGVNMVEARLGKPVQGCFICDMAYFLCCGDDSLGVSVDGAWISHAGFAIAEFKGNRSVNCNSRGGRIDQVGNTWVAATKRSKSLGQNPCTVITINHPAPPTCCLTLRFERILGRARSRKLGNRTYLSWYCESFAILDVTSLPFADVCAQNWIKMEPIRCTRSRLRAVGYTTCEHHSHPPYFLLLHPLSMRDIGLAHRWIFRSSQVFYALVNYSVLWPSQPRSTVDSTAGLGVFDLVLVHCSAPPTGGNTLQPPAVDCQPVVLSSECTYRSSLVLHMRPVLNSHLTRAQQSIGEAGTVRSLNGAPIVLGRVFTANGFVPWRLAGLVREGANPYSSSCELDSATCGTATHVLAAVPSVNERTVALSLTSTHWDVLPLRGKQPADPSRPLVFKVELRPLRQNRYLYCRKIDTKVCGLEDLSVVYLSVNPCSCPYLDLLFPLLSRSHHPETLQRLHVSLAQVYKRVDVLYSSSWAVKNVRTETTYGCHPRPTSEGLWHSRSASAAAIMLPSGVHSVNPTALKHYFTRMSQVLYHSELLGRSLSGDMRFKAPPFNNHISCFQPVTLVETNIARAMCRDVTSYTSCILLHVRIVVFTILLTLHISAKKDKQPDYAVPSLTRRISSQYVTHTRVRGGPTVPSVPSVESTTGTAPPASTHRILGCSRDRLHFARLKCRMRALCPISYAAIIVRHDCENRVPHTDALCGMRLLDVPRFRNSTFTRINPKMKPPSVLNASVARSHFYNALVTNASHVRLSKEAMLRTAENIYNKNREQGDSVNTVIRLGPNRWPRKGVINRMGRSPLRSGRQQVRSQTLAHVGPEESLEGRQFYRWTHKHTKTCNPTLVGNLIFVRRFHTSLLRSSNISLETRIRSNRYPLRLSATDVNPFSMKVWPQILKGLLPLDPGNGEHALALRFVIIHSQAFVFGLPTSVALWTLAIGSYLATKGGYGAHGATPCSYLTSGKLCISYHGTRVGHRESQYDSSELVTIAESFLVPKLRLIHLVYGNPSNQRRPVKTSRDRRNLPPIPHGPVDNAVNYWMSSRNFGEGVWGMRYVKDSNPKGQLLRCASARVNNARLLQTRSERTILHPADRIGYWRSLIPIETFAIYQVSRGRTPPVGSKWSRFIQSVGGDVPTRLFDRRSPKGCRTFYILDILPESFVCCISATLFLISGVFRPKMRSDGGSDKPRTSGHEVIICVRFNRAPQTNPVPRTVPNDGDSYKTTHVGFFKRWAASPHVADPHHPAPQESPGQCSVVPRCGHTTTLQLSDPTMVMHSQQYLSRYAFLEDWKIRIKCPSRCQHCSDVKRRAQDPPLIQPLASTSGQSHACVITATVHLSRYNGVRSEPGKNKLVQGISCPPVAYLIYLRPYQINARVKIGFHRLAAACDRILTGLCHYASQIRRRCTHRTPRYLLITALSEPDNSSSTRSLAIALKTADSYPRCVRSQTVSIGPSPVYGLLLEIFIHHVSHVNKEKQPRSAPSVSGYYDRSIMAVYPYISCPANELGLAGQCEATGRIASNSLTVYPLQRDPDGPTLTIQMYSRLLRKCSPEALLCDSLRFYTMIWGNMSSTYVGGGRSFRKDAGPFRFVNFIYATSAYRPIEFYDVNSLQPDTSVTMNKNGERSKSKTWGHPVRGRGKSQSTCNSFSVRSPSGLGPLQRNFLSPRGTFLLSHQGSSVRVQSKGTEVCNASIWLSLVPLCLTPLPPLHYWPFVITIVGRSWYNKLARSLSPTVIPKSSEAIQLVSHSTGIPIRVPGGPKPTSRHEPLILSGLTRYKSFDSSSITLCAHLSGLPHGRASTLTWSVNFKGIHPAALSISSLQNRCRARNSGIDMSELLYLVAIMVGVISQRFSVIFHILLP\n"
          ]
        }
      ]
    }
  ]
}