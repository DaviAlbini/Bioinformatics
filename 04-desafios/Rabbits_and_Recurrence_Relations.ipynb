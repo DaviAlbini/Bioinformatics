{
  "nbformat": 4,
  "nbformat_minor": 0,
  "metadata": {
    "colab": {
      "provenance": [],
      "authorship_tag": "ABX9TyNs8sUODU3IL39+LIE/aTxi",
      "include_colab_link": true
    },
    "kernelspec": {
      "name": "python3",
      "display_name": "Python 3"
    },
    "language_info": {
      "name": "python"
    }
  },
  "cells": [
    {
      "cell_type": "markdown",
      "metadata": {
        "id": "view-in-github",
        "colab_type": "text"
      },
      "source": [
        "<a href=\"https://colab.research.google.com/github/DaviAlbini/Bioinformatics/blob/main/01-iniciantes/Rabbits_and_Recurrence_Relations.ipynb\" target=\"_parent\"><img src=\"https://colab.research.google.com/assets/colab-badge.svg\" alt=\"Open In Colab\"/></a>"
      ]
    },
    {
      "cell_type": "code",
      "metadata": {
        "colab": {
          "base_uri": "https://localhost:8080/"
        },
        "id": "ec08a972",
        "outputId": "546f4d52-5f53-4323-8bdf-18da5a3b9a62"
      },
      "source": [
        "with open('/content/rosalind_fib.txt', 'r') as f:\n",
        "  line = f.readline().strip()\n",
        "  n_str, k_str = line.split()\n",
        "  n = int(n_str)\n",
        "  k = int(k_str)\n",
        "\n",
        "\n",
        "fib_k = [0] * (n + 1)\n",
        "fib_k[1] = 1\n",
        "\n",
        "\n",
        "for i in range(2, n + 1):\n",
        "    if i <= 2:\n",
        "        fib_k[i] = 1\n",
        "    else:\n",
        "        fib_k[i] = fib_k[i - 1] + fib_k[i - 2] * k\n",
        "\n",
        "total_rabbit_pairs = fib_k[n]\n",
        "print(total_rabbit_pairs)"
      ],
      "execution_count": 26,
      "outputs": [
        {
          "output_type": "stream",
          "name": "stdout",
          "text": [
            "5164501096416\n"
          ]
        }
      ]
    }
  ]
}
