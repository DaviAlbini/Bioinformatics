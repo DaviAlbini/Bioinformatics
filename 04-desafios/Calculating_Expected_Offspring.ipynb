{
  "nbformat": 4,
  "nbformat_minor": 0,
  "metadata": {
    "colab": {
      "provenance": [],
      "authorship_tag": "ABX9TyM3Ne3s9HQAB3BLJ0UMEDBX",
      "include_colab_link": true
    },
    "kernelspec": {
      "name": "python3",
      "display_name": "Python 3"
    },
    "language_info": {
      "name": "python"
    }
  },
  "cells": [
    {
      "cell_type": "markdown",
      "metadata": {
        "id": "view-in-github",
        "colab_type": "text"
      },
      "source": [
        "<a href=\"https://colab.research.google.com/github/DaviAlbini/Bioinformatics/blob/main/04-desafios/Calculating_Expected_Offspring.ipynb\" target=\"_parent\"><img src=\"https://colab.research.google.com/assets/colab-badge.svg\" alt=\"Open In Colab\"/></a>"
      ]
    },
    {
      "cell_type": "code",
      "execution_count": 13,
      "metadata": {
        "colab": {
          "base_uri": "https://localhost:8080/"
        },
        "id": "EsHQhoIF0lHB",
        "outputId": "3cd830c4-fdb0-4369-a5ab-0b852906a92b"
      },
      "outputs": [
        {
          "output_type": "execute_result",
          "data": {
            "text/plain": [
              "154638.0"
            ]
          },
          "metadata": {},
          "execution_count": 13
        }
      ],
      "source": [
        "# Given genotype pairings and their respective probabilities of producing offspring with a dominant phenotype\n",
        "# Each couple has exactly two offspring\n",
        "\n",
        "\n",
        "# Number of couples for each genotype pairing\n",
        "# couples = [1, 0, 0, 1, 0, 1]\n",
        "\n",
        "couples = open('/content/rosalind_iev.txt', 'r').readlines()\n",
        "couples_str = couples[0].strip()\n",
        "couples_list = [int(x) for x in couples_str.split()]\n",
        "\n",
        "# Expected dominant phenotype offspring per couple for each genotype pairing\n",
        "# AA-AA, AA-Aa, AA-aa, Aa-Aa, Aa-aa, aa-aa\n",
        "dominant_probabilities = [1.0, 1.0, 1.0, 0.75, 0.5, 0.0]\n",
        "\n",
        "# Calculate the expected number of dominant phenotype offspring\n",
        "expected_dominant_offspring = sum(2 * c * p for c, p in zip(couples_list, dominant_probabilities))\n",
        "\n",
        "expected_dominant_offspring"
      ]
    }
  ]
}