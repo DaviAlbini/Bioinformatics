{
  "nbformat": 4,
  "nbformat_minor": 0,
  "metadata": {
    "colab": {
      "provenance": [],
      "authorship_tag": "ABX9TyOVLu8W0RphuXxmGzbXORVd",
      "include_colab_link": true
    },
    "kernelspec": {
      "name": "python3",
      "display_name": "Python 3"
    },
    "language_info": {
      "name": "python"
    }
  },
  "cells": [
    {
      "cell_type": "markdown",
      "metadata": {
        "id": "view-in-github",
        "colab_type": "text"
      },
      "source": [
        "<a href=\"https://colab.research.google.com/github/DaviAlbini/Bioinformatics/blob/main/01-iniciantes/Complementing_a_Strand_of_DNA.ipynb\" target=\"_parent\"><img src=\"https://colab.research.google.com/assets/colab-badge.svg\" alt=\"Open In Colab\"/></a>"
      ]
    },
    {
      "cell_type": "code",
      "execution_count": 4,
      "metadata": {
        "colab": {
          "base_uri": "https://localhost:8080/"
        },
        "id": "qjGZMz6ifGmd",
        "outputId": "d2250a76-156c-41aa-c7c7-225f2c27bcc9"
      },
      "outputs": [
        {
          "output_type": "stream",
          "name": "stdout",
          "text": [
            "CGATGAAGACTTTCCGTGACTGTGCTGTCGAAGAACTATTCTCAATCTCTAAATCTGAACGTGAGTTGCAGTGCGTAAGCTATGTCAGAACCTTTAGCGTTAACTCAGCCGGTACCTCCACTGCGCGAGAGTGGCAGACGCTTATATCGGTACTCACTTACCTCAGGATCCTTAGGTTAGGCCTGTCTGTTTTACTGAGTTATTACAGATTCTTACACCAATACCACAACAAGCGAAAATTACTGCGTTAGGGTTTCAAGGAGGTACTCTGTTTAGTCCTTTCCTAGGCTATGCCCTACAGGGGACCCCGCAAAACCTTGCGAGGCCCAATTACTCCGGTAACTGACTCGAATGGACAATCCCCAAACACCTATACGAATGCCTGGAACTTACCCCCAGTGCGGACTAGGGAGTAGTACCCCTTGTAAATTCTCAAGCGGAGTTTGACACTCGAGCCGTAAGACTAGGAGCCGAGGTCTGCCGGGAACTTTTCGTATGATCGCGTGCAAGACCATCGCTAGCCGTAACATTCATCGCTGGTGTTGGGGTCTGTGACACGCTATTAGCAGGAGCTACTTTCACGAAGCGTTTCCGGCACCGCACCTTCACGGGGCAGAAGGGCTGCAGGTAGCATCCAACGATACGCCTTAGATCAACCCGACGTACTTAGCCCAATTGTAAATGCGTATAAGTCGAACTTGAGTACCGCCGACAGCTCGCACTCACCATGTTCTCATTTTAGGTTTGGGCTAATATAAATCGTCGCACCAATACTATCGTAACATTCTTCTCTCTCTGTATTTCCCAGAAGATCCAACAGAGATATTATCTTGTGTCCT\n"
          ]
        }
      ],
      "source": [
        "# Importação\n",
        "dna = open(\"/content/rosalind_revc.txt\").read()\n",
        "\n",
        "# Dicionário de Complemento\n",
        "comp = {\"A\":\"T\", \"T\":\"A\", \"G\":\"C\", \"C\":\"G\"}\n",
        "\n",
        "# Gerando sequência complementar\n",
        "dna_inverse = []\n",
        "for n in dna:\n",
        "  if n in comp:\n",
        "    dna_inverse.append(comp[n])\n",
        "dna_inverse.reverse()\n",
        "dna_inverse = \"\".join(dna_inverse)\n",
        "\n",
        "print(dna_inverse)"
      ]
    }
  ]
}
