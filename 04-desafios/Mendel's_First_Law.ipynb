{
  "nbformat": 4,
  "nbformat_minor": 0,
  "metadata": {
    "colab": {
      "provenance": [],
      "authorship_tag": "ABX9TyMDNA/L3ZsI0eXBvXNGvg3e",
      "include_colab_link": true
    },
    "kernelspec": {
      "name": "python3",
      "display_name": "Python 3"
    },
    "language_info": {
      "name": "python"
    }
  },
  "cells": [
    {
      "cell_type": "markdown",
      "metadata": {
        "id": "view-in-github",
        "colab_type": "text"
      },
      "source": [
        "<a href=\"https://colab.research.google.com/github/DaviAlbini/Bioinformatics/blob/main/01-iniciantes/Mendel's_First_Law.ipynb\" target=\"_parent\"><img src=\"https://colab.research.google.com/assets/colab-badge.svg\" alt=\"Open In Colab\"/></a>"
      ]
    },
    {
      "cell_type": "code",
      "source": [
        "values = open('/content/rosalind_iprb.txt', 'r').read()\n",
        "values = values.split()\n",
        "\n",
        "k = int(values[0])\n",
        "m = int(values[1])\n",
        "n = int(values[2])\n",
        "\n",
        "population = k + m + n\n",
        "mating_pairs = [('k', 'k'), ('k', 'm'), ('k', 'n'), ('m', 'm'), ('m', 'n'), ('n', 'n')]\n",
        "\n",
        "import math\n",
        "\n",
        "total_combinations = math.comb(population, 2)\n",
        "\n",
        "mating_pair_counts = {}\n",
        "\n",
        "# k k\n",
        "mating_pair_counts[('k', 'k')] = math.comb(k, 2)\n",
        "\n",
        "# k m\n",
        "mating_pair_counts[('k', 'm')] = k * m\n",
        "\n",
        "# k n\n",
        "mating_pair_counts[('k', 'n')] = k * n\n",
        "\n",
        "# m m\n",
        "mating_pair_counts[('m', 'm')] = math.comb(m, 2)\n",
        "\n",
        "# m n\n",
        "mating_pair_counts[('m', 'n')] = m * n\n",
        "\n",
        "# n n\n",
        "mating_pair_counts[('n', 'n')] = math.comb(n, 2)\n",
        "\n",
        "mating_pair_probabilities = {}\n",
        "for pair, count in mating_pair_counts.items():\n",
        "    mating_pair_probabilities[pair] = count / total_combinations\n",
        "\n",
        "offspring_dominant_probability = {}\n",
        "\n",
        "offspring_dominant_probability[('k', 'k')] = 1\n",
        "offspring_dominant_probability[('k', 'm')] = 1\n",
        "offspring_dominant_probability[('k', 'n')] = 1\n",
        "offspring_dominant_probability[('m', 'm')] = 0.75\n",
        "offspring_dominant_probability[('m', 'n')] = 0.5\n",
        "offspring_dominant_probability[('n', 'n')] = 0\n",
        "\n",
        "overall_probability = 0\n",
        "\n",
        "for pair, prob in mating_pair_probabilities.items():\n",
        "    offspring_prob = offspring_dominant_probability[pair]\n",
        "    overall_probability += prob * offspring_prob\n",
        "\n",
        "overall_probability"
      ],
      "metadata": {
        "colab": {
          "base_uri": "https://localhost:8080/"
        },
        "id": "ZRWsWv-wA-GW",
        "outputId": "f798c6f6-8513-46bb-d3b1-fa71fa7177ce"
      },
      "execution_count": 16,
      "outputs": [
        {
          "output_type": "execute_result",
          "data": {
            "text/plain": [
              "0.7887840670859538"
            ]
          },
          "metadata": {},
          "execution_count": 16
        }
      ]
    }
  ]
}
