{
  "nbformat": 4,
  "nbformat_minor": 0,
  "metadata": {
    "colab": {
      "provenance": [],
      "authorship_tag": "ABX9TyMhlIqAi3KwHfaYWwq+6m9s",
      "include_colab_link": true
    },
    "kernelspec": {
      "name": "python3",
      "display_name": "Python 3"
    },
    "language_info": {
      "name": "python"
    }
  },
  "cells": [
    {
      "cell_type": "markdown",
      "metadata": {
        "id": "view-in-github",
        "colab_type": "text"
      },
      "source": [
        "<a href=\"https://colab.research.google.com/github/DaviAlbini/Bioinformatics/blob/main/01-iniciantes/Counting_Point_Mutations.ipynb\" target=\"_parent\"><img src=\"https://colab.research.google.com/assets/colab-badge.svg\" alt=\"Open In Colab\"/></a>"
      ]
    },
    {
      "cell_type": "code",
      "execution_count": 9,
      "metadata": {
        "colab": {
          "base_uri": "https://localhost:8080/"
        },
        "id": "55FUdajn5uF5",
        "outputId": "73623f3d-2c95-4fb1-c1e6-feed320adb3f"
      },
      "outputs": [
        {
          "output_type": "execute_result",
          "data": {
            "text/plain": [
              "['ACTCTACACCGAGGGATCCTTGGCATTGTGGACTGTGGATATGTAAGATCGCAAGGTGTATTGATTGGGATGATGAGCTCGCTACTCTTATCTACGGTTCTATTCACAATACATGCATCTATTTATGGATACCGGTCCAGTTAGAACAGAAAAGACTCTCAAGACTTTCGCTATATCGTCTCAATGAGATGGTTCGGATAAATGGTTATGCTGACTCCCAAATTCAAGTGATGTCAGTTAGAATCTTTGCCTTTTCTAAACCATAACGGTCGCACAATTCGCGGAATCTAAGCATGGTATGCAGCAAAGCACGCGATTAAGGGAGTCCGACTAGTACTCGTGGGGGACTCCGGGGGAACATCTGAGTCTGCTGATTTCACTTTCTTAGACAATGATTTAGAACCTTTTTTTTGCCCTTGAGATAAGAGTGAGCTACCTGTCGTCGTGTGACGATCCAAAGGAGACTGATAGGGGCACGTGACGGTTTTATACTACGGATCTTTGCGTCCTCTCGCCGAAGCTCTGGTGTCTTTCCAGCAGAATCACTATGGGGAAGCTTGCAGCTTCAAGGTACATCACTTTCTGTTCTCCTATCTGTGCCGAGATCCACAGAGCTCCTTACGGCAGGTCTATAACGTTTGTCCAAGGGTCTACAGTCGACAATGTAGAGTCCCTAGTCATTACTTTCTTTGAACCTAGCGCCTTGTTCCAGCGCCGAAATGTAAGAGGGAATGTCTACCACCTGTAATAATGGGGCGAGTATCTGGGGGCCTTTCGCAGCGCCATAGGCCGTTTGCGTGGCTGGTCGAATGTTGTGATTATGACTTACATTCCGGTATGAGAAGACATTTAGCAACGCATCCTCTCCAGAACTCTGCTGGGTCAGAGTCTTCCCCATGCGTTATGAGGCGGATCTAATGGGTGGATTCCGTACGGTTTTACATAGTGCTTGTAGACTCCCTGATGGGTTTGGAGGG',\n",
              " 'TCTGCAGAACGGGGTGTTATGCCTGTCGTCGACTATAGATTAGTATAATGTCAAGTAGCATAAAATGGGCGTGTGTAAGCGTGACTATTCAAAATGGTACTTTAATCCATCCATTTACTATTCCGCCTATACAGCTCCAGCTGAAACATACGACTGAGGCAGCTTCTTTCCGTATTCACCTCAAGGAGGTGGCTTCTATAAAGCGAGAGCCGGAGGCACAACCGTAAGTAATTTTTTTTCGCTTTCTTAGCTTTGCTCTACACTCTAGATACCCATGTTGCAGCATACCTGGGCCGGGATGCAGTGCACAACGCGTCTCAGCGCCTCCCCTAATCGCACATGAGGGACTCAGAGCGAACTCCTGTGTGAACTTCTTTGCTTTTTTAGGGGCGTCATATCGTAGCGACTTTGTGATCTTCTGTTACACGCCAGGCACGTGTGGGAAAATGTAGGCACCGCGAGGTACGATATGACCACGAGACGCAACCAAATCACATGGCAGCGAATCATGTCGCCGAGGCTCAGGACTTTTTTTAGCAGATTCGTTCTCGCCCTTATGACACTTCTTATGTATATCAGGTTCTGGATTATGAGCGACACTACGTAACCTAAAGCTACCCTGGTCGTCTTTCTAACGTTGCTGTAACGACTAGCGGTAGCTTGTGTAGAAACACATGTCATCATTGTATCTAAACGCAGCCTCTTGATACATGGCCGAAATGCGTGAACGTATGTCTACTCCCTGTACTCGTGTCCAGAGCGACCACTCCTTTTCGGCATCACCATACTACGCCTGCGCGCTCCAGCTAGTATATAGATTACGGGGTAAACTCCAGTGCGCGAAGACATGCCGGTAAGGATTTTCTCGCGCCAGCCACTGCGTCAGATACCTCCAACCGCGTTGTGCGGCGCCTGATAGGACTGGCTACAGTCGAGCGTTGCATAGTCCTAGTTCATTACGGGAAGGTTTTAACAAA']"
            ]
          },
          "metadata": {},
          "execution_count": 9
        }
      ],
      "source": [
        "sequences = open('/content/rosalind_hamm.txt').read()\n",
        "\n",
        "seq = {}\n",
        "seq = sequences.split()\n",
        "\n",
        "seq"
      ]
    },
    {
      "cell_type": "code",
      "metadata": {
        "colab": {
          "base_uri": "https://localhost:8080/"
        },
        "id": "6f726915",
        "outputId": "0b81efd2-96ae-44b0-fc89-7b88079d908d"
      },
      "source": [
        "mutations = 0\n",
        "\n",
        "for i in range(len(seq[0])):\n",
        "\n",
        "  if seq[0][i] != seq[1][i]:\n",
        "    mutations += 1\n",
        "\n",
        "mutations"
      ],
      "execution_count": 10,
      "outputs": [
        {
          "output_type": "execute_result",
          "data": {
            "text/plain": [
              "472"
            ]
          },
          "metadata": {},
          "execution_count": 10
        }
      ]
    }
  ]
}
