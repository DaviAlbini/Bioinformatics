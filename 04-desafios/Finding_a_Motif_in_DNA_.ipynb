{
  "nbformat": 4,
  "nbformat_minor": 0,
  "metadata": {
    "colab": {
      "provenance": [],
      "authorship_tag": "ABX9TyN3x9mQmed55ngkIfOQcHRJ",
      "include_colab_link": true
    },
    "kernelspec": {
      "name": "python3",
      "display_name": "Python 3"
    },
    "language_info": {
      "name": "python"
    }
  },
  "cells": [
    {
      "cell_type": "markdown",
      "metadata": {
        "id": "view-in-github",
        "colab_type": "text"
      },
      "source": [
        "<a href=\"https://colab.research.google.com/github/DaviAlbini/Bioinformatics/blob/main/04-desafios/Finding_a_Motif_in_DNA_.ipynb\" target=\"_parent\"><img src=\"https://colab.research.google.com/assets/colab-badge.svg\" alt=\"Open In Colab\"/></a>"
      ]
    },
    {
      "cell_type": "code",
      "execution_count": 13,
      "metadata": {
        "colab": {
          "base_uri": "https://localhost:8080/",
          "height": 35
        },
        "id": "jTRnrEPNHSxx",
        "outputId": "c98ec070-fa51-4f97-902b-e1a5c36175a5"
      },
      "outputs": [
        {
          "output_type": "execute_result",
          "data": {
            "text/plain": [
              "'54 132 155 170 194 209 225 248 286 302 332 426 690 783 814 837 876 940 949'"
            ],
            "application/vnd.google.colaboratory.intrinsic+json": {
              "type": "string"
            }
          },
          "metadata": {},
          "execution_count": 13
        }
      ],
      "source": [
        "dateset = \"\"\"\n",
        "GTACAAATCTGACTCCGGATCTGACCCAATCTGACAAATCTGACCATCTGACAATCTGACATCTGACGATCTGACGGCGCATCTGACACCGTGGGATCTGACCAGAATCTGACGCGCGAGATCTGACCATGATCTGACATCTGACCATCTGACGATCTGACATCTGACCATCTGACATCGCTCATCTGACTGTATCTGACATCTGACTATCTGACATCTGACCGATCTGACATTTAGATCTGACGAGATCTGACATCTGACTAGCAAATCTGACCATCTGACGAAATCTGACATCTGACGTATCTGACATCCACCATCTGACGATCTGACGATCTGACATCTGACCTAATCAAGATCTGACTCTGATCAGAGGCTCATCTGACGATCTGACTATATCTGACCCTATCTGACAATCCATCTGACAAATCTGACATCTGACTGATCTGACGGAACAAATCTGACGTATCTGACGGAATCTGACTGCACCGCAGCTTACGCACTCCTGGCATCTGACTATCTGACTATTGACGTTATCTGACTATCTGACCATCTGACCAATCGCGCGATCTGACCGTATCTGACAACCGATCTGACAAGATCTGACGATCTGACTCATCTGACCTCCGCATCTGACGCATCTGACGCAAATCTGACTTCCATATCTGACGGCAGATCTGACAATCTGACGAATCTGACATTCTAAGCCATCTGACCCGTATCTGACGCCCATCTGACCGATCTGACTCAGGATCTGACCATCTGACCCATCTGACTATCTGACGATCTGACATCCATATCTGACTATCTGACGGCATCTGACATCTGACCATCTGACAATCTGACATCTGACCGCAATCTGACGGTGGATCTGACCAATCTGACATCTGACCAAATCTGACAGCAAGGCAATTATCTGACCGATCTGACAGTGATCTGACCATCTGACATATCTGACATCTGACGAATCTGAC\n",
        "ATCTGACAT\n",
        "\"\"\"\n",
        "\n",
        "seq = dateset.split('\\n')[1]\n",
        "sub_seq = dateset.split('\\n')[2]\n",
        "\n",
        "motifs = []\n",
        "\n",
        "for i in range(len(seq)):\n",
        "  # Look for sub_seq in seq\n",
        "  if seq[i:i+len(sub_seq)] == sub_seq:\n",
        "    motifs.append(str(i+1))\n",
        "\n",
        "' '.join(motifs)"
      ]
    }
  ]
}